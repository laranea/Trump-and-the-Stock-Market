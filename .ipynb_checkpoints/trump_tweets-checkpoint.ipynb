{
 "cells": [
  {
   "cell_type": "code",
   "execution_count": 1,
   "metadata": {
    "collapsed": true
   },
   "outputs": [],
   "source": [
    "import pandas as pd\n",
    "import numpy as np\n",
    "import re\n",
    "import matplotlib.pyplot as plt\n",
    "from vaderSentiment.vaderSentiment import SentimentIntensityAnalyzer"
   ]
  },
  {
   "cell_type": "code",
   "execution_count": 2,
   "metadata": {},
   "outputs": [
    {
     "data": {
      "text/plain": [
       "(5884, 8)"
      ]
     },
     "execution_count": 2,
     "metadata": {},
     "output_type": "execute_result"
    }
   ],
   "source": [
    "#read in files\n",
    "trump_16 = pd.read_json('C:/Users/bobal/Data_Science/GA/condensed_2016.json')\n",
    "trump_17 = pd.read_json('C:/Users/bobal/Data_Science/GA/condensed_2017.json')\n",
    "trump_16.sort_index(ascending=False, inplace = True)\n",
    "trump_17.sort_index(ascending =False, inplace = True)\n",
    "trump = trump_16.append(trump_17, ignore_index=True)\n",
    "trump.shape"
   ]
  },
  {
   "cell_type": "code",
   "execution_count": 3,
   "metadata": {},
   "outputs": [
    {
     "data": {
      "text/html": [
       "<div>\n",
       "<style>\n",
       "    .dataframe thead tr:only-child th {\n",
       "        text-align: right;\n",
       "    }\n",
       "\n",
       "    .dataframe thead th {\n",
       "        text-align: left;\n",
       "    }\n",
       "\n",
       "    .dataframe tbody tr th {\n",
       "        vertical-align: top;\n",
       "    }\n",
       "</style>\n",
       "<table border=\"1\" class=\"dataframe\">\n",
       "  <thead>\n",
       "    <tr style=\"text-align: right;\">\n",
       "      <th></th>\n",
       "      <th>created_at</th>\n",
       "      <th>favorite_count</th>\n",
       "      <th>id_str</th>\n",
       "      <th>in_reply_to_user_id_str</th>\n",
       "      <th>is_retweet</th>\n",
       "      <th>retweet_count</th>\n",
       "      <th>source</th>\n",
       "      <th>text</th>\n",
       "    </tr>\n",
       "  </thead>\n",
       "  <tbody>\n",
       "    <tr>\n",
       "      <th>0</th>\n",
       "      <td>2016-01-01 00:44:14</td>\n",
       "      <td>6735</td>\n",
       "      <td>682723973449289728</td>\n",
       "      <td>NaN</td>\n",
       "      <td>False</td>\n",
       "      <td>2108</td>\n",
       "      <td>Twitter for Android</td>\n",
       "      <td>I will be on @FoxNews live,  with members of m...</td>\n",
       "    </tr>\n",
       "    <tr>\n",
       "      <th>1</th>\n",
       "      <td>2016-01-01 03:25:27</td>\n",
       "      <td>8581</td>\n",
       "      <td>682764544402440192</td>\n",
       "      <td>NaN</td>\n",
       "      <td>False</td>\n",
       "      <td>3460</td>\n",
       "      <td>Twitter for iPhone</td>\n",
       "      <td>HAPPY NEW YEAR &amp;amp; THANK YOU! https://t.co/Y...</td>\n",
       "    </tr>\n",
       "    <tr>\n",
       "      <th>2</th>\n",
       "      <td>2016-01-01 05:18:23</td>\n",
       "      <td>9143</td>\n",
       "      <td>682792967736848384</td>\n",
       "      <td>NaN</td>\n",
       "      <td>False</td>\n",
       "      <td>3434</td>\n",
       "      <td>Twitter for iPhone</td>\n",
       "      <td>#HappyNewYearAmerica! https://t.co/EeQb8PDrUe</td>\n",
       "    </tr>\n",
       "    <tr>\n",
       "      <th>3</th>\n",
       "      <td>2016-01-01 06:07:28</td>\n",
       "      <td>8258</td>\n",
       "      <td>682805320217980928</td>\n",
       "      <td>NaN</td>\n",
       "      <td>False</td>\n",
       "      <td>1948</td>\n",
       "      <td>Twitter for iPhone</td>\n",
       "      <td>Happy New Year from #MarALago! Thank you to my...</td>\n",
       "    </tr>\n",
       "    <tr>\n",
       "      <th>4</th>\n",
       "      <td>2016-01-01 06:08:06</td>\n",
       "      <td>7490</td>\n",
       "      <td>682805477168779264</td>\n",
       "      <td>NaN</td>\n",
       "      <td>False</td>\n",
       "      <td>2721</td>\n",
       "      <td>Twitter for Android</td>\n",
       "      <td>\"@jallenaip: Hillary said she was in a \"Fog of...</td>\n",
       "    </tr>\n",
       "  </tbody>\n",
       "</table>\n",
       "</div>"
      ],
      "text/plain": [
       "           created_at  favorite_count              id_str  \\\n",
       "0 2016-01-01 00:44:14            6735  682723973449289728   \n",
       "1 2016-01-01 03:25:27            8581  682764544402440192   \n",
       "2 2016-01-01 05:18:23            9143  682792967736848384   \n",
       "3 2016-01-01 06:07:28            8258  682805320217980928   \n",
       "4 2016-01-01 06:08:06            7490  682805477168779264   \n",
       "\n",
       "   in_reply_to_user_id_str  is_retweet  retweet_count               source  \\\n",
       "0                      NaN       False           2108  Twitter for Android   \n",
       "1                      NaN       False           3460   Twitter for iPhone   \n",
       "2                      NaN       False           3434   Twitter for iPhone   \n",
       "3                      NaN       False           1948   Twitter for iPhone   \n",
       "4                      NaN       False           2721  Twitter for Android   \n",
       "\n",
       "                                                text  \n",
       "0  I will be on @FoxNews live,  with members of m...  \n",
       "1  HAPPY NEW YEAR &amp; THANK YOU! https://t.co/Y...  \n",
       "2      #HappyNewYearAmerica! https://t.co/EeQb8PDrUe  \n",
       "3  Happy New Year from #MarALago! Thank you to my...  \n",
       "4  \"@jallenaip: Hillary said she was in a \"Fog of...  "
      ]
     },
     "execution_count": 3,
     "metadata": {},
     "output_type": "execute_result"
    }
   ],
   "source": [
    "trump.head()"
   ]
  },
  {
   "cell_type": "code",
   "execution_count": 4,
   "metadata": {
    "collapsed": true
   },
   "outputs": [],
   "source": [
    "#preprocess trump tweets\n",
    "trump.text = trump.text.apply(lambda x: re.sub(r'^https?:\\/\\/.*[\\r\\n]*', '', x, flags=re.MULTILINE))"
   ]
  },
  {
   "cell_type": "code",
   "execution_count": 6,
   "metadata": {
    "collapsed": true
   },
   "outputs": [],
   "source": [
    "#instantiate vadersentiment and analyze tweets for negative, neutral, or positive sentiment.\n",
    "#Calculate overall sentiment for tweet\n",
    "analyser = SentimentIntensityAnalyzer()\n",
    "\n",
    "neg=[]\n",
    "neu=[]\n",
    "pos=[]\n",
    "com=[]\n",
    "for idx, text in enumerate(trump.text):\n",
    "    snt = analyser.polarity_scores(text)\n",
    "    neg.append(snt['neg'])\n",
    "    neu.append(snt['neu'])\n",
    "    pos.append(snt['pos'])\n",
    "    com.append(snt['compound'])\n",
    "    \n",
    "trump['neg']=neg\n",
    "trump['neu']=neu\n",
    "trump['pos']=pos\n",
    "trump['com']=com"
   ]
  },
  {
   "cell_type": "code",
   "execution_count": 16,
   "metadata": {},
   "outputs": [
    {
     "data": {
      "text/plain": [
       "created_at                 960\n",
       "favorite_count             960\n",
       "id_str                     960\n",
       "in_reply_to_user_id_str      8\n",
       "is_retweet                 960\n",
       "retweet_count              960\n",
       "source                     960\n",
       "text                       960\n",
       "neg                        960\n",
       "neu                        960\n",
       "pos                        960\n",
       "com                        960\n",
       "dtype: int64"
      ]
     },
     "execution_count": 16,
     "metadata": {},
     "output_type": "execute_result"
    }
   ],
   "source": [
    "trump[trump['com'] == 0].count()"
   ]
  },
  {
   "cell_type": "code",
   "execution_count": 17,
   "metadata": {
    "collapsed": true
   },
   "outputs": [],
   "source": [
    "#Make dataframe a datetime index\n",
    "trump.index=pd.DatetimeIndex(trump['created_at'])\n",
    "trump.drop('created_at', axis = 1, inplace =True)"
   ]
  },
  {
   "cell_type": "code",
   "execution_count": 33,
   "metadata": {},
   "outputs": [
    {
     "data": {
      "text/plain": [
       "favorite_count             1666\n",
       "id_str                     1666\n",
       "in_reply_to_user_id_str      13\n",
       "is_retweet                 1666\n",
       "retweet_count              1666\n",
       "source                     1666\n",
       "text                       1666\n",
       "neg                        1666\n",
       "neu                        1666\n",
       "pos                        1666\n",
       "com                        1666\n",
       "dtype: int64"
      ]
     },
     "execution_count": 33,
     "metadata": {},
     "output_type": "execute_result"
    }
   ],
   "source": [
    "neg"
   ]
  },
  {
   "cell_type": "code",
   "execution_count": 20,
   "metadata": {
    "collapsed": true
   },
   "outputs": [],
   "source": [
    "#resample for daily time period, Calculate sentiment for all tweets per day\n",
    "trump_sent = pd.DataFrame(trump.resample('D')['com'].sum())"
   ]
  },
  {
   "cell_type": "code",
   "execution_count": 21,
   "metadata": {},
   "outputs": [
    {
     "data": {
      "text/html": [
       "<div>\n",
       "<style>\n",
       "    .dataframe thead tr:only-child th {\n",
       "        text-align: right;\n",
       "    }\n",
       "\n",
       "    .dataframe thead th {\n",
       "        text-align: left;\n",
       "    }\n",
       "\n",
       "    .dataframe tbody tr th {\n",
       "        vertical-align: top;\n",
       "    }\n",
       "</style>\n",
       "<table border=\"1\" class=\"dataframe\">\n",
       "  <thead>\n",
       "    <tr style=\"text-align: right;\">\n",
       "      <th></th>\n",
       "      <th>com</th>\n",
       "    </tr>\n",
       "    <tr>\n",
       "      <th>created_at</th>\n",
       "      <th></th>\n",
       "    </tr>\n",
       "  </thead>\n",
       "  <tbody>\n",
       "    <tr>\n",
       "      <th>2016-01-01</th>\n",
       "      <td>6.4942</td>\n",
       "    </tr>\n",
       "    <tr>\n",
       "      <th>2016-01-02</th>\n",
       "      <td>2.8296</td>\n",
       "    </tr>\n",
       "    <tr>\n",
       "      <th>2016-01-03</th>\n",
       "      <td>0.1894</td>\n",
       "    </tr>\n",
       "    <tr>\n",
       "      <th>2016-01-04</th>\n",
       "      <td>2.0465</td>\n",
       "    </tr>\n",
       "    <tr>\n",
       "      <th>2016-01-05</th>\n",
       "      <td>8.0538</td>\n",
       "    </tr>\n",
       "  </tbody>\n",
       "</table>\n",
       "</div>"
      ],
      "text/plain": [
       "               com\n",
       "created_at        \n",
       "2016-01-01  6.4942\n",
       "2016-01-02  2.8296\n",
       "2016-01-03  0.1894\n",
       "2016-01-04  2.0465\n",
       "2016-01-05  8.0538"
      ]
     },
     "execution_count": 21,
     "metadata": {},
     "output_type": "execute_result"
    }
   ],
   "source": [
    "trump_sent.head()"
   ]
  },
  {
   "cell_type": "code",
   "execution_count": 23,
   "metadata": {
    "collapsed": true
   },
   "outputs": [],
   "source": [
    "trump_sent.drop('created_at', axis =1, inplace = True)\n",
    "trump_sent.to_csv('trump_sent.csv')"
   ]
  },
  {
   "cell_type": "code",
   "execution_count": null,
   "metadata": {
    "collapsed": true
   },
   "outputs": [],
   "source": []
  }
 ],
 "metadata": {
  "kernelspec": {
   "display_name": "Python 3",
   "language": "python",
   "name": "python3"
  },
  "language_info": {
   "codemirror_mode": {
    "name": "ipython",
    "version": 3
   },
   "file_extension": ".py",
   "mimetype": "text/x-python",
   "name": "python",
   "nbconvert_exporter": "python",
   "pygments_lexer": "ipython3",
   "version": "3.6.2"
  }
 },
 "nbformat": 4,
 "nbformat_minor": 2
}
