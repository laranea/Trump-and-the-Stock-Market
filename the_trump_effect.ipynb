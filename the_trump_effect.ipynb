{
 "cells": [
  {
   "cell_type": "code",
   "execution_count": 1,
   "metadata": {},
   "outputs": [
    {
     "name": "stderr",
     "output_type": "stream",
     "text": [
      "Using TensorFlow backend.\n",
      "C:\\Users\\bobbyd\\Anaconda2\\envs\\neural_net\\lib\\site-packages\\sklearn\\cross_validation.py:41: DeprecationWarning: This module was deprecated in version 0.18 in favor of the model_selection module into which all the refactored classes and functions are moved. Also note that the interface of the new CV iterators are different from that of this module. This module will be removed in 0.20.\n",
      "  \"This module will be removed in 0.20.\", DeprecationWarning)\n"
     ]
    }
   ],
   "source": [
    "'''\n",
    "    Author: Robert Dwyer\n",
    "    Date: 10/25/2017\n",
    "    A multivariate LSTM neural Network designed to predict the current days S&P500 value based on the previous days closing\n",
    "    price, volume traded, and the sentiment of Donald Trump's tweets.\n",
    "'''\n",
    "import pandas as pd\n",
    "import numpy as np\n",
    "from numpy import concatenate\n",
    "from numpy import sqrt\n",
    "import math\n",
    "from sklearn.preprocessing import Imputer\n",
    "from keras.models import Sequential\n",
    "from keras.layers import Dense\n",
    "from keras.layers import LSTM\n",
    "from sklearn.model_selection import TimeSeriesSplit\n",
    "from sklearn.preprocessing import MinMaxScaler\n",
    "from sklearn.metrics import mean_squared_error\n",
    "from subprocess import check_output\n",
    "from numpy import newaxis\n",
    "from sklearn.cross_validation import train_test_split\n",
    "import matplotlib.pyplot as plt\n",
    "\n",
    "%matplotlib inline\n",
    "\n",
    "import time"
   ]
  },
  {
   "cell_type": "code",
   "execution_count": 2,
   "metadata": {},
   "outputs": [
    {
     "data": {
      "text/html": [
       "<div>\n",
       "<style>\n",
       "    .dataframe thead tr:only-child th {\n",
       "        text-align: right;\n",
       "    }\n",
       "\n",
       "    .dataframe thead th {\n",
       "        text-align: left;\n",
       "    }\n",
       "\n",
       "    .dataframe tbody tr th {\n",
       "        vertical-align: top;\n",
       "    }\n",
       "</style>\n",
       "<table border=\"1\" class=\"dataframe\">\n",
       "  <thead>\n",
       "    <tr style=\"text-align: right;\">\n",
       "      <th></th>\n",
       "      <th>created_at</th>\n",
       "      <th>com</th>\n",
       "    </tr>\n",
       "  </thead>\n",
       "  <tbody>\n",
       "    <tr>\n",
       "      <th>0</th>\n",
       "      <td>2016-01-01</td>\n",
       "      <td>6.4942</td>\n",
       "    </tr>\n",
       "    <tr>\n",
       "      <th>1</th>\n",
       "      <td>2016-01-02</td>\n",
       "      <td>2.8296</td>\n",
       "    </tr>\n",
       "    <tr>\n",
       "      <th>2</th>\n",
       "      <td>2016-01-03</td>\n",
       "      <td>0.1894</td>\n",
       "    </tr>\n",
       "    <tr>\n",
       "      <th>3</th>\n",
       "      <td>2016-01-04</td>\n",
       "      <td>2.0465</td>\n",
       "    </tr>\n",
       "    <tr>\n",
       "      <th>4</th>\n",
       "      <td>2016-01-05</td>\n",
       "      <td>8.0538</td>\n",
       "    </tr>\n",
       "  </tbody>\n",
       "</table>\n",
       "</div>"
      ],
      "text/plain": [
       "   created_at     com\n",
       "0  2016-01-01  6.4942\n",
       "1  2016-01-02  2.8296\n",
       "2  2016-01-03  0.1894\n",
       "3  2016-01-04  2.0465\n",
       "4  2016-01-05  8.0538"
      ]
     },
     "execution_count": 2,
     "metadata": {},
     "output_type": "execute_result"
    }
   ],
   "source": [
    "trump = pd.read_csv('trump_sent.csv')\n",
    "trump.head()"
   ]
  },
  {
   "cell_type": "code",
   "execution_count": 3,
   "metadata": {},
   "outputs": [
    {
     "data": {
      "text/html": [
       "<div>\n",
       "<style>\n",
       "    .dataframe thead tr:only-child th {\n",
       "        text-align: right;\n",
       "    }\n",
       "\n",
       "    .dataframe thead th {\n",
       "        text-align: left;\n",
       "    }\n",
       "\n",
       "    .dataframe tbody tr th {\n",
       "        vertical-align: top;\n",
       "    }\n",
       "</style>\n",
       "<table border=\"1\" class=\"dataframe\">\n",
       "  <thead>\n",
       "    <tr style=\"text-align: right;\">\n",
       "      <th></th>\n",
       "      <th>Date</th>\n",
       "      <th>Open</th>\n",
       "      <th>Low</th>\n",
       "      <th>High</th>\n",
       "      <th>Close</th>\n",
       "      <th>Volume</th>\n",
       "    </tr>\n",
       "  </thead>\n",
       "  <tbody>\n",
       "    <tr>\n",
       "      <th>0</th>\n",
       "      <td>Aug 22, 2017</td>\n",
       "      <td>2433.75</td>\n",
       "      <td>2433.67</td>\n",
       "      <td>2454.77</td>\n",
       "      <td>2452.51</td>\n",
       "      <td>1,588,714,000</td>\n",
       "    </tr>\n",
       "    <tr>\n",
       "      <th>1</th>\n",
       "      <td>Aug 18, 2017</td>\n",
       "      <td>2427.64</td>\n",
       "      <td>2420.69</td>\n",
       "      <td>2440.27</td>\n",
       "      <td>2425.55</td>\n",
       "      <td>1,962,081,000</td>\n",
       "    </tr>\n",
       "    <tr>\n",
       "      <th>2</th>\n",
       "      <td>Aug 17, 2017</td>\n",
       "      <td>2462.95</td>\n",
       "      <td>2430.01</td>\n",
       "      <td>2465.02</td>\n",
       "      <td>2430.01</td>\n",
       "      <td>1,929,351,000</td>\n",
       "    </tr>\n",
       "    <tr>\n",
       "      <th>3</th>\n",
       "      <td>Aug 15, 2017</td>\n",
       "      <td>2468.66</td>\n",
       "      <td>2461.61</td>\n",
       "      <td>2468.90</td>\n",
       "      <td>2464.61</td>\n",
       "      <td>1,689,634,000</td>\n",
       "    </tr>\n",
       "    <tr>\n",
       "      <th>4</th>\n",
       "      <td>Aug 14, 2017</td>\n",
       "      <td>2454.96</td>\n",
       "      <td>2454.96</td>\n",
       "      <td>2468.22</td>\n",
       "      <td>2465.84</td>\n",
       "      <td>1,586,224,000</td>\n",
       "    </tr>\n",
       "  </tbody>\n",
       "</table>\n",
       "</div>"
      ],
      "text/plain": [
       "           Date     Open      Low     High    Close         Volume\n",
       "0  Aug 22, 2017  2433.75  2433.67  2454.77  2452.51  1,588,714,000\n",
       "1  Aug 18, 2017  2427.64  2420.69  2440.27  2425.55  1,962,081,000\n",
       "2  Aug 17, 2017  2462.95  2430.01  2465.02  2430.01  1,929,351,000\n",
       "3  Aug 15, 2017  2468.66  2461.61  2468.90  2464.61  1,689,634,000\n",
       "4  Aug 14, 2017  2454.96  2454.96  2468.22  2465.84  1,586,224,000"
      ]
     },
     "execution_count": 3,
     "metadata": {},
     "output_type": "execute_result"
    }
   ],
   "source": [
    "nyse = pd.read_csv('C:/Users/bobbyd/Desktop/data_science/git_repo/Trump-and-the-Stock-Market/nyse1.csv', skipfooter=2, engine = 'python')\n",
    "nyse.head()"
   ]
  },
  {
   "cell_type": "code",
   "execution_count": 4,
   "metadata": {},
   "outputs": [
    {
     "data": {
      "text/html": [
       "<div>\n",
       "<style>\n",
       "    .dataframe thead tr:only-child th {\n",
       "        text-align: right;\n",
       "    }\n",
       "\n",
       "    .dataframe thead th {\n",
       "        text-align: left;\n",
       "    }\n",
       "\n",
       "    .dataframe tbody tr th {\n",
       "        vertical-align: top;\n",
       "    }\n",
       "</style>\n",
       "<table border=\"1\" class=\"dataframe\">\n",
       "  <thead>\n",
       "    <tr style=\"text-align: right;\">\n",
       "      <th></th>\n",
       "      <th>Close</th>\n",
       "      <th>Volume</th>\n",
       "    </tr>\n",
       "    <tr>\n",
       "      <th>Date</th>\n",
       "      <th></th>\n",
       "      <th></th>\n",
       "    </tr>\n",
       "  </thead>\n",
       "  <tbody>\n",
       "    <tr>\n",
       "      <th>2016-01-01</th>\n",
       "      <td>2043.94</td>\n",
       "      <td>482596000</td>\n",
       "    </tr>\n",
       "    <tr>\n",
       "      <th>2016-01-02</th>\n",
       "      <td>2043.94</td>\n",
       "      <td>482596000</td>\n",
       "    </tr>\n",
       "    <tr>\n",
       "      <th>2016-01-03</th>\n",
       "      <td>2043.94</td>\n",
       "      <td>482596000</td>\n",
       "    </tr>\n",
       "    <tr>\n",
       "      <th>2016-01-04</th>\n",
       "      <td>2012.66</td>\n",
       "      <td>802072000</td>\n",
       "    </tr>\n",
       "    <tr>\n",
       "      <th>2016-01-05</th>\n",
       "      <td>2012.66</td>\n",
       "      <td>802072000</td>\n",
       "    </tr>\n",
       "  </tbody>\n",
       "</table>\n",
       "</div>"
      ],
      "text/plain": [
       "              Close     Volume\n",
       "Date                          \n",
       "2016-01-01  2043.94  482596000\n",
       "2016-01-02  2043.94  482596000\n",
       "2016-01-03  2043.94  482596000\n",
       "2016-01-04  2012.66  802072000\n",
       "2016-01-05  2012.66  802072000"
      ]
     },
     "execution_count": 4,
     "metadata": {},
     "output_type": "execute_result"
    }
   ],
   "source": [
    "#preprocess Stock data\n",
    "nyse.index = pd.DatetimeIndex(nyse['Date'])\n",
    "nyse.sort_index(ascending=True, inplace=True)\n",
    "nyse.drop('Date', axis=1, inplace=True)\n",
    "nyse = nyse[['Close','Volume']]\n",
    "nyse = nyse.resample('D').fillna('ffill')\n",
    "nyse['Volume'] = nyse['Volume'].apply(lambda x: x.replace(',', ''))\n",
    "nyse= nyse.loc['2016-01-01':, :]\n",
    "nyse.head()"
   ]
  },
  {
   "cell_type": "code",
   "execution_count": 5,
   "metadata": {},
   "outputs": [],
   "source": [
    "#preprocess sentiment data\n",
    "trump.index = pd.DatetimeIndex(trump['created_at'])\n",
    "trump.sort_index(ascending=True, inplace=True)\n",
    "trump.drop('created_at', axis=1, inplace=True)\n",
    "trump=trump.loc[:'2017-08-22',:]"
   ]
  },
  {
   "cell_type": "code",
   "execution_count": 6,
   "metadata": {},
   "outputs": [
    {
     "data": {
      "text/plain": [
       "((600, 1), (600, 2))"
      ]
     },
     "execution_count": 6,
     "metadata": {},
     "output_type": "execute_result"
    }
   ],
   "source": [
    "trump.shape, nyse.shape"
   ]
  },
  {
   "cell_type": "code",
   "execution_count": 7,
   "metadata": {},
   "outputs": [
    {
     "data": {
      "text/html": [
       "<div>\n",
       "<style>\n",
       "    .dataframe thead tr:only-child th {\n",
       "        text-align: right;\n",
       "    }\n",
       "\n",
       "    .dataframe thead th {\n",
       "        text-align: left;\n",
       "    }\n",
       "\n",
       "    .dataframe tbody tr th {\n",
       "        vertical-align: top;\n",
       "    }\n",
       "</style>\n",
       "<table border=\"1\" class=\"dataframe\">\n",
       "  <thead>\n",
       "    <tr style=\"text-align: right;\">\n",
       "      <th></th>\n",
       "      <th>Close</th>\n",
       "      <th>Volume</th>\n",
       "      <th>sentiment</th>\n",
       "    </tr>\n",
       "  </thead>\n",
       "  <tbody>\n",
       "    <tr>\n",
       "      <th>2016-01-01</th>\n",
       "      <td>2043.94</td>\n",
       "      <td>482596000</td>\n",
       "      <td>6.4942</td>\n",
       "    </tr>\n",
       "    <tr>\n",
       "      <th>2016-01-02</th>\n",
       "      <td>2043.94</td>\n",
       "      <td>482596000</td>\n",
       "      <td>2.8296</td>\n",
       "    </tr>\n",
       "    <tr>\n",
       "      <th>2016-01-03</th>\n",
       "      <td>2043.94</td>\n",
       "      <td>482596000</td>\n",
       "      <td>0.1894</td>\n",
       "    </tr>\n",
       "    <tr>\n",
       "      <th>2016-01-04</th>\n",
       "      <td>2012.66</td>\n",
       "      <td>802072000</td>\n",
       "      <td>2.0465</td>\n",
       "    </tr>\n",
       "    <tr>\n",
       "      <th>2016-01-05</th>\n",
       "      <td>2012.66</td>\n",
       "      <td>802072000</td>\n",
       "      <td>8.0538</td>\n",
       "    </tr>\n",
       "  </tbody>\n",
       "</table>\n",
       "</div>"
      ],
      "text/plain": [
       "              Close     Volume  sentiment\n",
       "2016-01-01  2043.94  482596000     6.4942\n",
       "2016-01-02  2043.94  482596000     2.8296\n",
       "2016-01-03  2043.94  482596000     0.1894\n",
       "2016-01-04  2012.66  802072000     2.0465\n",
       "2016-01-05  2012.66  802072000     8.0538"
      ]
     },
     "execution_count": 7,
     "metadata": {},
     "output_type": "execute_result"
    }
   ],
   "source": [
    "df=pd.concat([nyse, trump], axis=1)\n",
    "df = df.rename(columns={'com': 'sentiment'})\n",
    "df.head()"
   ]
  },
  {
   "cell_type": "code",
   "execution_count": 10,
   "metadata": {},
   "outputs": [
    {
     "data": {
      "text/plain": [
       "array([[  2.04393994e+03,   4.82596000e+08,   6.49420023e+00],\n",
       "       [  2.04393994e+03,   4.82596000e+08,   2.82960010e+00],\n",
       "       [  2.04393994e+03,   4.82596000e+08,   1.89400002e-01],\n",
       "       ..., \n",
       "       [  2.42555005e+03,   1.96208102e+09,  -9.21100020e-01],\n",
       "       [  2.42555005e+03,   1.96208102e+09,   5.90399981e-01],\n",
       "       [  2.45251001e+03,   1.58871398e+09,   3.00539994e+00]])"
      ]
     },
     "execution_count": 10,
     "metadata": {},
     "output_type": "execute_result"
    }
   ],
   "source": [
    "imputer = Imputer(strategy='median')\n",
    "df =imputer.fit_transform(df)"
   ]
  },
  {
   "cell_type": "code",
   "execution_count": 11,
   "metadata": {},
   "outputs": [
    {
     "ename": "ValueError",
     "evalue": "Input contains NaN, infinity or a value too large for dtype('float64').",
     "output_type": "error",
     "traceback": [
      "\u001b[1;31m---------------------------------------------------------------------------\u001b[0m",
      "\u001b[1;31mValueError\u001b[0m                                Traceback (most recent call last)",
      "\u001b[1;32m<ipython-input-11-b4f46a09b3cc>\u001b[0m in \u001b[0;36m<module>\u001b[1;34m()\u001b[0m\n\u001b[0;32m     31\u001b[0m \u001b[1;31m# scale data, reframe for supervised learning and drop target variable\u001b[0m\u001b[1;33m\u001b[0m\u001b[1;33m\u001b[0m\u001b[0m\n\u001b[0;32m     32\u001b[0m \u001b[0mscaler\u001b[0m \u001b[1;33m=\u001b[0m \u001b[0mMinMaxScaler\u001b[0m\u001b[1;33m(\u001b[0m\u001b[0mfeature_range\u001b[0m\u001b[1;33m=\u001b[0m\u001b[1;33m(\u001b[0m\u001b[1;36m0\u001b[0m\u001b[1;33m,\u001b[0m\u001b[1;36m1\u001b[0m\u001b[1;33m)\u001b[0m\u001b[1;33m)\u001b[0m\u001b[1;33m\u001b[0m\u001b[0m\n\u001b[1;32m---> 33\u001b[1;33m \u001b[0mscaled\u001b[0m  \u001b[1;33m=\u001b[0m \u001b[0mscaler\u001b[0m\u001b[1;33m.\u001b[0m\u001b[0mfit_transform\u001b[0m\u001b[1;33m(\u001b[0m\u001b[0mdf\u001b[0m\u001b[1;33m)\u001b[0m\u001b[1;33m\u001b[0m\u001b[0m\n\u001b[0m\u001b[0;32m     34\u001b[0m \u001b[0mreframed\u001b[0m \u001b[1;33m=\u001b[0m \u001b[0mseries_to_supervised\u001b[0m\u001b[1;33m(\u001b[0m\u001b[0mscaled\u001b[0m\u001b[1;33m,\u001b[0m \u001b[1;36m1\u001b[0m\u001b[1;33m,\u001b[0m \u001b[1;36m1\u001b[0m\u001b[1;33m)\u001b[0m\u001b[1;33m\u001b[0m\u001b[0m\n\u001b[0;32m     35\u001b[0m \u001b[0mreframed\u001b[0m\u001b[1;33m.\u001b[0m\u001b[0mhead\u001b[0m\u001b[1;33m(\u001b[0m\u001b[1;33m)\u001b[0m\u001b[1;33m\u001b[0m\u001b[0m\n",
      "\u001b[1;32m~\\Anaconda2\\envs\\neural_net\\lib\\site-packages\\sklearn\\base.py\u001b[0m in \u001b[0;36mfit_transform\u001b[1;34m(self, X, y, **fit_params)\u001b[0m\n\u001b[0;32m    516\u001b[0m         \u001b[1;32mif\u001b[0m \u001b[0my\u001b[0m \u001b[1;32mis\u001b[0m \u001b[1;32mNone\u001b[0m\u001b[1;33m:\u001b[0m\u001b[1;33m\u001b[0m\u001b[0m\n\u001b[0;32m    517\u001b[0m             \u001b[1;31m# fit method of arity 1 (unsupervised transformation)\u001b[0m\u001b[1;33m\u001b[0m\u001b[1;33m\u001b[0m\u001b[0m\n\u001b[1;32m--> 518\u001b[1;33m             \u001b[1;32mreturn\u001b[0m \u001b[0mself\u001b[0m\u001b[1;33m.\u001b[0m\u001b[0mfit\u001b[0m\u001b[1;33m(\u001b[0m\u001b[0mX\u001b[0m\u001b[1;33m,\u001b[0m \u001b[1;33m**\u001b[0m\u001b[0mfit_params\u001b[0m\u001b[1;33m)\u001b[0m\u001b[1;33m.\u001b[0m\u001b[0mtransform\u001b[0m\u001b[1;33m(\u001b[0m\u001b[0mX\u001b[0m\u001b[1;33m)\u001b[0m\u001b[1;33m\u001b[0m\u001b[0m\n\u001b[0m\u001b[0;32m    519\u001b[0m         \u001b[1;32melse\u001b[0m\u001b[1;33m:\u001b[0m\u001b[1;33m\u001b[0m\u001b[0m\n\u001b[0;32m    520\u001b[0m             \u001b[1;31m# fit method of arity 2 (supervised transformation)\u001b[0m\u001b[1;33m\u001b[0m\u001b[1;33m\u001b[0m\u001b[0m\n",
      "\u001b[1;32m~\\Anaconda2\\envs\\neural_net\\lib\\site-packages\\sklearn\\preprocessing\\data.py\u001b[0m in \u001b[0;36mfit\u001b[1;34m(self, X, y)\u001b[0m\n\u001b[0;32m    306\u001b[0m         \u001b[1;31m# Reset internal state before fitting\u001b[0m\u001b[1;33m\u001b[0m\u001b[1;33m\u001b[0m\u001b[0m\n\u001b[0;32m    307\u001b[0m         \u001b[0mself\u001b[0m\u001b[1;33m.\u001b[0m\u001b[0m_reset\u001b[0m\u001b[1;33m(\u001b[0m\u001b[1;33m)\u001b[0m\u001b[1;33m\u001b[0m\u001b[0m\n\u001b[1;32m--> 308\u001b[1;33m         \u001b[1;32mreturn\u001b[0m \u001b[0mself\u001b[0m\u001b[1;33m.\u001b[0m\u001b[0mpartial_fit\u001b[0m\u001b[1;33m(\u001b[0m\u001b[0mX\u001b[0m\u001b[1;33m,\u001b[0m \u001b[0my\u001b[0m\u001b[1;33m)\u001b[0m\u001b[1;33m\u001b[0m\u001b[0m\n\u001b[0m\u001b[0;32m    309\u001b[0m \u001b[1;33m\u001b[0m\u001b[0m\n\u001b[0;32m    310\u001b[0m     \u001b[1;32mdef\u001b[0m \u001b[0mpartial_fit\u001b[0m\u001b[1;33m(\u001b[0m\u001b[0mself\u001b[0m\u001b[1;33m,\u001b[0m \u001b[0mX\u001b[0m\u001b[1;33m,\u001b[0m \u001b[0my\u001b[0m\u001b[1;33m=\u001b[0m\u001b[1;32mNone\u001b[0m\u001b[1;33m)\u001b[0m\u001b[1;33m:\u001b[0m\u001b[1;33m\u001b[0m\u001b[0m\n",
      "\u001b[1;32m~\\Anaconda2\\envs\\neural_net\\lib\\site-packages\\sklearn\\preprocessing\\data.py\u001b[0m in \u001b[0;36mpartial_fit\u001b[1;34m(self, X, y)\u001b[0m\n\u001b[0;32m    332\u001b[0m \u001b[1;33m\u001b[0m\u001b[0m\n\u001b[0;32m    333\u001b[0m         X = check_array(X, copy=self.copy, warn_on_dtype=True,\n\u001b[1;32m--> 334\u001b[1;33m                         estimator=self, dtype=FLOAT_DTYPES)\n\u001b[0m\u001b[0;32m    335\u001b[0m \u001b[1;33m\u001b[0m\u001b[0m\n\u001b[0;32m    336\u001b[0m         \u001b[0mdata_min\u001b[0m \u001b[1;33m=\u001b[0m \u001b[0mnp\u001b[0m\u001b[1;33m.\u001b[0m\u001b[0mmin\u001b[0m\u001b[1;33m(\u001b[0m\u001b[0mX\u001b[0m\u001b[1;33m,\u001b[0m \u001b[0maxis\u001b[0m\u001b[1;33m=\u001b[0m\u001b[1;36m0\u001b[0m\u001b[1;33m)\u001b[0m\u001b[1;33m\u001b[0m\u001b[0m\n",
      "\u001b[1;32m~\\Anaconda2\\envs\\neural_net\\lib\\site-packages\\sklearn\\utils\\validation.py\u001b[0m in \u001b[0;36mcheck_array\u001b[1;34m(array, accept_sparse, dtype, order, copy, force_all_finite, ensure_2d, allow_nd, ensure_min_samples, ensure_min_features, warn_on_dtype, estimator)\u001b[0m\n\u001b[0;32m    420\u001b[0m                              % (array.ndim, estimator_name))\n\u001b[0;32m    421\u001b[0m         \u001b[1;32mif\u001b[0m \u001b[0mforce_all_finite\u001b[0m\u001b[1;33m:\u001b[0m\u001b[1;33m\u001b[0m\u001b[0m\n\u001b[1;32m--> 422\u001b[1;33m             \u001b[0m_assert_all_finite\u001b[0m\u001b[1;33m(\u001b[0m\u001b[0marray\u001b[0m\u001b[1;33m)\u001b[0m\u001b[1;33m\u001b[0m\u001b[0m\n\u001b[0m\u001b[0;32m    423\u001b[0m \u001b[1;33m\u001b[0m\u001b[0m\n\u001b[0;32m    424\u001b[0m     \u001b[0mshape_repr\u001b[0m \u001b[1;33m=\u001b[0m \u001b[0m_shape_repr\u001b[0m\u001b[1;33m(\u001b[0m\u001b[0marray\u001b[0m\u001b[1;33m.\u001b[0m\u001b[0mshape\u001b[0m\u001b[1;33m)\u001b[0m\u001b[1;33m\u001b[0m\u001b[0m\n",
      "\u001b[1;32m~\\Anaconda2\\envs\\neural_net\\lib\\site-packages\\sklearn\\utils\\validation.py\u001b[0m in \u001b[0;36m_assert_all_finite\u001b[1;34m(X)\u001b[0m\n\u001b[0;32m     41\u001b[0m             and not np.isfinite(X).all()):\n\u001b[0;32m     42\u001b[0m         raise ValueError(\"Input contains NaN, infinity\"\n\u001b[1;32m---> 43\u001b[1;33m                          \" or a value too large for %r.\" % X.dtype)\n\u001b[0m\u001b[0;32m     44\u001b[0m \u001b[1;33m\u001b[0m\u001b[0m\n\u001b[0;32m     45\u001b[0m \u001b[1;33m\u001b[0m\u001b[0m\n",
      "\u001b[1;31mValueError\u001b[0m: Input contains NaN, infinity or a value too large for dtype('float64')."
     ]
    }
   ],
   "source": [
    "#A function that will covert a time series database into a supervised learning database\n",
    "\n",
    "def series_to_supervised(data, n_in=1, n_out=1, dropnan=True):\n",
    "    n_vars = 1 if type(data) is list else data.shape[1]\n",
    "    df = pd.DataFrame(data)\n",
    "    cols, names = list(), list()\n",
    "    # input sequence (t-n, ... t-1)\n",
    "    for i in range(n_in, 0, -1):\n",
    "            cols.append(df.shift(i))\n",
    "            names += [('var%d(t-%d)' % (j+1, i)) for j in range(n_vars)]\n",
    "    # forecast sequence (t, t+1, ... t+n)\n",
    "    for i in range(0, n_out):\n",
    "        cols.append(df.shift(-i))\n",
    "        if i == 0:\n",
    "            names += [('var%d(t)' % (j+1)) for j in range(n_vars)]\n",
    "        else:\n",
    "            names += [('var%d(t+%d)' % (j+1, i)) for j in range(n_vars)]\n",
    "    # put it all together\n",
    "    agg = pd.concat(cols, axis=1)\n",
    "    agg.columns = names\n",
    "    # drop rows with NaN values\n",
    "    if dropnan:\n",
    "        agg.dropna(inplace=True)\n",
    "    return agg\n",
    "\n",
    "\n",
    "df = df.astype('float32')\n",
    "\n",
    "\n",
    "\n",
    "# scale data, reframe for supervised learning and drop target variable\n",
    "scaler = MinMaxScaler(feature_range=(0,1))\n",
    "scaled  = scaler.fit_transform(df)\n",
    "reframed = series_to_supervised(scaled, 1, 1)\n",
    "reframed.head()\n",
    "reframed.drop(reframed.columns[[3,4]], axis=1)\n",
    "reframed.head()"
   ]
  },
  {
   "cell_type": "code",
   "execution_count": 50,
   "metadata": {},
   "outputs": [
    {
     "data": {
      "text/html": [
       "<div>\n",
       "<style>\n",
       "    .dataframe thead tr:only-child th {\n",
       "        text-align: right;\n",
       "    }\n",
       "\n",
       "    .dataframe thead th {\n",
       "        text-align: left;\n",
       "    }\n",
       "\n",
       "    .dataframe tbody tr th {\n",
       "        vertical-align: top;\n",
       "    }\n",
       "</style>\n",
       "<table border=\"1\" class=\"dataframe\">\n",
       "  <thead>\n",
       "    <tr style=\"text-align: right;\">\n",
       "      <th></th>\n",
       "      <th>var1(t-1)</th>\n",
       "      <th>var2(t-1)</th>\n",
       "      <th>var3(t-1)</th>\n",
       "      <th>var3(t)</th>\n",
       "    </tr>\n",
       "  </thead>\n",
       "  <tbody>\n",
       "    <tr>\n",
       "      <th>1</th>\n",
       "      <td>0.331191</td>\n",
       "      <td>0.063974</td>\n",
       "      <td>0.530415</td>\n",
       "      <td>0.377457</td>\n",
       "    </tr>\n",
       "    <tr>\n",
       "      <th>2</th>\n",
       "      <td>0.331191</td>\n",
       "      <td>0.063974</td>\n",
       "      <td>0.377457</td>\n",
       "      <td>0.267257</td>\n",
       "    </tr>\n",
       "    <tr>\n",
       "      <th>3</th>\n",
       "      <td>0.331191</td>\n",
       "      <td>0.063974</td>\n",
       "      <td>0.267257</td>\n",
       "      <td>0.344771</td>\n",
       "    </tr>\n",
       "    <tr>\n",
       "      <th>4</th>\n",
       "      <td>0.282975</td>\n",
       "      <td>0.156613</td>\n",
       "      <td>0.344771</td>\n",
       "      <td>0.595512</td>\n",
       "    </tr>\n",
       "    <tr>\n",
       "      <th>5</th>\n",
       "      <td>0.282975</td>\n",
       "      <td>0.156613</td>\n",
       "      <td>0.595512</td>\n",
       "      <td>0.370395</td>\n",
       "    </tr>\n",
       "  </tbody>\n",
       "</table>\n",
       "</div>"
      ],
      "text/plain": [
       "   var1(t-1)  var2(t-1)  var3(t-1)   var3(t)\n",
       "1   0.331191   0.063974   0.530415  0.377457\n",
       "2   0.331191   0.063974   0.377457  0.267257\n",
       "3   0.331191   0.063974   0.267257  0.344771\n",
       "4   0.282975   0.156613   0.344771  0.595512\n",
       "5   0.282975   0.156613   0.595512  0.370395"
      ]
     },
     "execution_count": 50,
     "metadata": {},
     "output_type": "execute_result"
    }
   ],
   "source": [
    "reframed.drop(reframed.columns[[3,4]], axis=1, inplace =True)\n",
    "reframed.head()"
   ]
  },
  {
   "cell_type": "code",
   "execution_count": 52,
   "metadata": {},
   "outputs": [
    {
     "name": "stdout",
     "output_type": "stream",
     "text": [
      "(300, 1, 3) (300,) (299, 1, 3) (299,)\n"
     ]
    }
   ],
   "source": [
    "#split data into training and test\n",
    "values= reframed.values\n",
    "n_train_hours =30*10\n",
    "train = values[:n_train_hours, :]\n",
    "test = values[n_train_hours:,:]\n",
    "\n",
    "#split data into inputs and outputs\n",
    "train_X, train_y = train[:,:-1], train[:,-1] \n",
    "test_X, test_y = test[:,:-1], test[:,-1]\n",
    "\n",
    "#required input shape for a LSTM is 3D\n",
    "train_X = train_X.reshape(train_X.shape[0],1, train_X.shape[1])\n",
    "test_X = test_X.reshape(test_X.shape[0],1, test_X.shape[1])\n",
    "print(train_X.shape, train_y.shape, test_X.shape, test_y.shape)"
   ]
  },
  {
   "cell_type": "code",
   "execution_count": 53,
   "metadata": {},
   "outputs": [
    {
     "name": "stdout",
     "output_type": "stream",
     "text": [
      "Train on 300 samples, validate on 299 samples\n",
      "Epoch 1/50\n",
      "0s - loss: 0.3407 - val_loss: 0.2935\n",
      "Epoch 2/50\n",
      "0s - loss: 0.3125 - val_loss: 0.2547\n",
      "Epoch 3/50\n",
      "0s - loss: 0.2843 - val_loss: 0.2157\n",
      "Epoch 4/50\n",
      "0s - loss: 0.2561 - val_loss: 0.1763\n",
      "Epoch 5/50\n",
      "0s - loss: 0.2277 - val_loss: 0.1368\n",
      "Epoch 6/50\n",
      "0s - loss: 0.1997 - val_loss: 0.1001\n",
      "Epoch 7/50\n",
      "0s - loss: 0.1722 - val_loss: 0.0727\n",
      "Epoch 8/50\n",
      "0s - loss: 0.1482 - val_loss: 0.0622\n",
      "Epoch 9/50\n",
      "0s - loss: 0.1275 - val_loss: 0.0711\n",
      "Epoch 10/50\n",
      "0s - loss: 0.1122 - val_loss: 0.0909\n",
      "Epoch 11/50\n",
      "0s - loss: 0.1032 - val_loss: 0.1130\n",
      "Epoch 12/50\n",
      "0s - loss: 0.0991 - val_loss: 0.1313\n",
      "Epoch 13/50\n",
      "0s - loss: 0.0979 - val_loss: 0.1420\n",
      "Epoch 14/50\n",
      "0s - loss: 0.0978 - val_loss: 0.1451\n",
      "Epoch 15/50\n",
      "0s - loss: 0.0975 - val_loss: 0.1430\n",
      "Epoch 16/50\n",
      "0s - loss: 0.0972 - val_loss: 0.1381\n",
      "Epoch 17/50\n",
      "0s - loss: 0.0968 - val_loss: 0.1318\n",
      "Epoch 18/50\n",
      "0s - loss: 0.0968 - val_loss: 0.1264\n",
      "Epoch 19/50\n",
      "0s - loss: 0.0970 - val_loss: 0.1230\n",
      "Epoch 20/50\n",
      "0s - loss: 0.0972 - val_loss: 0.1210\n",
      "Epoch 21/50\n",
      "0s - loss: 0.0973 - val_loss: 0.1203\n",
      "Epoch 22/50\n",
      "0s - loss: 0.0973 - val_loss: 0.1203\n",
      "Epoch 23/50\n",
      "0s - loss: 0.0972 - val_loss: 0.1207\n",
      "Epoch 24/50\n",
      "0s - loss: 0.0971 - val_loss: 0.1213\n",
      "Epoch 25/50\n",
      "0s - loss: 0.0969 - val_loss: 0.1218\n",
      "Epoch 26/50\n",
      "0s - loss: 0.0968 - val_loss: 0.1222\n",
      "Epoch 27/50\n",
      "0s - loss: 0.0967 - val_loss: 0.1226\n",
      "Epoch 28/50\n",
      "0s - loss: 0.0966 - val_loss: 0.1229\n",
      "Epoch 29/50\n",
      "0s - loss: 0.0965 - val_loss: 0.1230\n",
      "Epoch 30/50\n",
      "0s - loss: 0.0964 - val_loss: 0.1230\n",
      "Epoch 31/50\n",
      "0s - loss: 0.0964 - val_loss: 0.1228\n",
      "Epoch 32/50\n",
      "0s - loss: 0.0963 - val_loss: 0.1224\n",
      "Epoch 33/50\n",
      "0s - loss: 0.0963 - val_loss: 0.1220\n",
      "Epoch 34/50\n",
      "0s - loss: 0.0962 - val_loss: 0.1217\n",
      "Epoch 35/50\n",
      "0s - loss: 0.0962 - val_loss: 0.1210\n",
      "Epoch 36/50\n",
      "0s - loss: 0.0961 - val_loss: 0.1203\n",
      "Epoch 37/50\n",
      "0s - loss: 0.0961 - val_loss: 0.1198\n",
      "Epoch 38/50\n",
      "0s - loss: 0.0961 - val_loss: 0.1196\n",
      "Epoch 39/50\n",
      "0s - loss: 0.0961 - val_loss: 0.1193\n",
      "Epoch 40/50\n",
      "0s - loss: 0.0961 - val_loss: 0.1189\n",
      "Epoch 41/50\n",
      "0s - loss: 0.0960 - val_loss: 0.1185\n",
      "Epoch 42/50\n",
      "0s - loss: 0.0960 - val_loss: 0.1180\n",
      "Epoch 43/50\n",
      "0s - loss: 0.0960 - val_loss: 0.1175\n",
      "Epoch 44/50\n",
      "0s - loss: 0.0960 - val_loss: 0.1170\n",
      "Epoch 45/50\n",
      "0s - loss: 0.0960 - val_loss: 0.1165\n",
      "Epoch 46/50\n",
      "0s - loss: 0.0959 - val_loss: 0.1162\n",
      "Epoch 47/50\n",
      "0s - loss: 0.0959 - val_loss: 0.1161\n",
      "Epoch 48/50\n",
      "0s - loss: 0.0959 - val_loss: 0.1160\n",
      "Epoch 49/50\n",
      "0s - loss: 0.0958 - val_loss: 0.1158\n",
      "Epoch 50/50\n",
      "0s - loss: 0.0958 - val_loss: 0.1155\n"
     ]
    },
    {
     "data": {
      "image/png": "[encoded data removed]",
      "text/plain": [
       "<matplotlib.figure.Figure at 0x211cfcc6978>"
      ]
     },
     "metadata": {},
     "output_type": "display_data"
    }
   ],
   "source": [
    "'''\n",
    "    LSTM will defined with 1 hidden layer composed of 50 neurons and 1 output layer composed of 1 neuron\n",
    "\n",
    "'''\n",
    "# Design network\n",
    "model =Sequential()\n",
    "model.add(LSTM(50, input_shape=(train_X.shape[1], train_X.shape[2])))\n",
    "model.add(Dense(1))\n",
    "model.compile(loss='mae', optimizer='adam')\n",
    "\n",
    "#fit network\n",
    "history = model.fit(train_X, train_y, epochs=50, batch_size=72, validation_data=(test_X, test_y), verbose=2, shuffle=False)\n",
    "\n",
    "#plot history\n",
    "plt.plot(history.history['loss'], label='train')\n",
    "plt.plot(history.history['val_loss'], label='test')\n",
    "plt.legend()\n",
    "plt.show()"
   ]
  },
  {
   "cell_type": "code",
   "execution_count": 54,
   "metadata": {},
   "outputs": [
    {
     "data": {
      "text/plain": [
       "0.1336294"
      ]
     },
     "execution_count": 54,
     "metadata": {},
     "output_type": "execute_result"
    }
   ],
   "source": [
    "#predict values and calculate Root Mean Squared Error score\n",
    "yhat = model.predict(test_X)\n",
    "rmse = sqrt(mean_squared_error(test_y, yhat))\n",
    "rmse"
   ]
  },
  {
   "cell_type": "code",
   "execution_count": null,
   "metadata": {
    "collapsed": true
   },
   "outputs": [],
   "source": []
  }
 ],
 "metadata": {
  "kernelspec": {
   "display_name": "Python 3",
   "language": "python",
   "name": "python3"
  },
  "language_info": {
   "codemirror_mode": {
    "name": "ipython",
    "version": 3
   },
   "file_extension": ".py",
   "mimetype": "text/x-python",
   "name": "python",
   "nbconvert_exporter": "python",
   "pygments_lexer": "ipython3",
   "version": "3.6.2"
  }
 },
 "nbformat": 4,
 "nbformat_minor": 2
}
