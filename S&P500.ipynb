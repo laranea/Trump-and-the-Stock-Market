{
 "cells": [
  {
   "cell_type": "code",
   "execution_count": 1,
   "metadata": {},
   "outputs": [
    {
     "name": "stderr",
     "output_type": "stream",
     "text": [
      "Using TensorFlow backend.\n",
      "C:\\Users\\bobbyd\\Anaconda2\\envs\\neural_net\\lib\\site-packages\\sklearn\\cross_validation.py:41: DeprecationWarning: This module was deprecated in version 0.18 in favor of the model_selection module into which all the refactored classes and functions are moved. Also note that the interface of the new CV iterators are different from that of this module. This module will be removed in 0.20.\n",
      "  \"This module will be removed in 0.20.\", DeprecationWarning)\n"
     ]
    }
   ],
   "source": [
    "import pandas as pd\n",
    "import numpy as np\n",
    "import math\n",
    "from keras.models import Sequential\n",
    "from keras.layers import Dense\n",
    "from keras.layers import LSTM\n",
    "from sklearn.model_selection import TimeSeriesSplit\n",
    "from sklearn.preprocessing import MinMaxScaler\n",
    "from sklearn.metrics import mean_squared_error\n",
    "from subprocess import check_output\n",
    "from numpy import newaxis\n",
    "from sklearn.cross_validation import train_test_split\n",
    "import matplotlib.pyplot as plt\n",
    "\n",
    "%matplotlib inline"
   ]
  },
  {
   "cell_type": "code",
   "execution_count": 2,
   "metadata": {
    "collapsed": true
   },
   "outputs": [],
   "source": [
    "import time"
   ]
  },
  {
   "cell_type": "code",
   "execution_count": 31,
   "metadata": {
    "collapsed": true
   },
   "outputs": [],
   "source": [
    "nyse = pd.read_csv('nyse1.csv', skipfooter=2, engine = 'python')"
   ]
  },
  {
   "cell_type": "code",
   "execution_count": 32,
   "metadata": {},
   "outputs": [
    {
     "data": {
      "text/plain": [
       "Date\n",
       "2015-12-29    2078.36\n",
       "2015-12-30    2063.36\n",
       "2015-12-31    2043.94\n",
       "2016-01-01    2043.94\n",
       "2016-01-02    2043.94\n",
       "2016-01-03    2043.94\n",
       "2016-01-04    2012.66\n",
       "2016-01-05    2012.66\n",
       "2016-01-06    1990.26\n",
       "2016-01-07    1943.09\n",
       "Freq: D, Name: Close, dtype: float64"
      ]
     },
     "execution_count": 32,
     "metadata": {},
     "output_type": "execute_result"
    }
   ],
   "source": [
    "#preprocess Stock data\n",
    "nyse.index = pd.DatetimeIndex(nyse['Date'])\n",
    "nyse.sort_index(ascending=True, inplace=True)\n",
    "nyse.drop('Date', axis=1, inplace=True)\n",
    "nyse = nyse.loc['2015-12-29':, :]\n",
    "nyse = nyse['Close']\n",
    "nyse = nyse.resample('D').fillna('ffill')\n",
    "nyse[0:10]\n"
   ]
  },
  {
   "cell_type": "code",
   "execution_count": 33,
   "metadata": {},
   "outputs": [],
   "source": [
    "nyse.reset_index(drop=True, inplace=True)"
   ]
  },
  {
   "cell_type": "code",
   "execution_count": 35,
   "metadata": {},
   "outputs": [
    {
     "name": "stderr",
     "output_type": "stream",
     "text": [
      "C:\\Users\\bobbyd\\Anaconda2\\envs\\neural_net\\lib\\site-packages\\ipykernel_launcher.py:2: FutureWarning: reshape is deprecated and will raise in a subsequent release. Please use .values.reshape(...) instead\n",
      "  \n"
     ]
    }
   ],
   "source": [
    "# scale data for sigmoid and tanh\n",
    "nyse= nyse.reshape(-1,1)\n",
    "scaler = MinMaxScaler(feature_range=(0,1))\n",
    "nyse  = scaler.fit_transform(nyse)"
   ]
  },
  {
   "cell_type": "code",
   "execution_count": 36,
   "metadata": {},
   "outputs": [
    {
     "name": "stdout",
     "output_type": "stream",
     "text": [
      "404 199\n"
     ]
    }
   ],
   "source": [
    "#train test split\n",
    "train_size = int(len(nyse) * .67)\n",
    "test_size = len(nyse) - train_size\n",
    "train, test = nyse[0:train_size,:], nyse[train_size:len(nyse),:]\n",
    "print(len(train),len(test))"
   ]
  },
  {
   "cell_type": "code",
   "execution_count": 38,
   "metadata": {
    "collapsed": true
   },
   "outputs": [],
   "source": [
    "# convert an array of values into a dataset matrix\n",
    "def create_dataset(dataset, look_back=1):\n",
    "    dataX, dataY = [], []\n",
    "    for i in range(len(dataset)-look_back-1):\n",
    "        a = dataset[i:(i+look_back), 0]\n",
    "        dataX.append(a)\n",
    "        dataY.append(dataset[i + look_back, 0])\n",
    "    return np.array(dataX), np.array(dataY)"
   ]
  },
  {
   "cell_type": "code",
   "execution_count": 39,
   "metadata": {},
   "outputs": [],
   "source": [
    "look_back =1\n",
    "trainX, trainY = create_dataset(train, look_back)\n",
    "testX, testY = create_dataset(test, look_back)"
   ]
  },
  {
   "cell_type": "code",
   "execution_count": 40,
   "metadata": {
    "collapsed": true
   },
   "outputs": [],
   "source": [
    "trainX = np.reshape(trainX, (trainX.shape[0], 1,trainX.shape[1]))\n",
    "testX = np.reshape(testX,(testX.shape[0], 1, testX.shape[1]))"
   ]
  },
  {
   "cell_type": "code",
   "execution_count": 41,
   "metadata": {},
   "outputs": [
    {
     "data": {
      "text/plain": [
       "(402, 1, 1)"
      ]
     },
     "execution_count": 41,
     "metadata": {},
     "output_type": "execute_result"
    }
   ],
   "source": [
    "trainX.shape"
   ]
  },
  {
   "cell_type": "code",
   "execution_count": 42,
   "metadata": {},
   "outputs": [
    {
     "name": "stdout",
     "output_type": "stream",
     "text": [
      "Epoch 1/100\n",
      "1s - loss: 0.0429\n",
      "Epoch 2/100\n",
      "0s - loss: 0.0095\n",
      "Epoch 3/100\n",
      "0s - loss: 0.0055\n",
      "Epoch 4/100\n",
      "0s - loss: 0.0025\n",
      "Epoch 5/100\n",
      "0s - loss: 9.5312e-04\n",
      "Epoch 6/100\n",
      "0s - loss: 5.0869e-04\n",
      "Epoch 7/100\n",
      "0s - loss: 4.3244e-04\n",
      "Epoch 8/100\n",
      "0s - loss: 4.2844e-04\n",
      "Epoch 9/100\n",
      "0s - loss: 4.2431e-04\n",
      "Epoch 10/100\n",
      "0s - loss: 4.3033e-04\n",
      "Epoch 11/100\n",
      "0s - loss: 4.2110e-04\n",
      "Epoch 12/100\n",
      "0s - loss: 4.4400e-04\n",
      "Epoch 13/100\n",
      "0s - loss: 4.3067e-04\n",
      "Epoch 14/100\n",
      "0s - loss: 4.2774e-04\n",
      "Epoch 15/100\n",
      "0s - loss: 4.3535e-04\n",
      "Epoch 16/100\n",
      "0s - loss: 4.2405e-04\n",
      "Epoch 17/100\n",
      "0s - loss: 4.2212e-04\n",
      "Epoch 18/100\n",
      "0s - loss: 4.2608e-04\n",
      "Epoch 19/100\n",
      "0s - loss: 4.1568e-04\n",
      "Epoch 20/100\n",
      "0s - loss: 4.2170e-04\n",
      "Epoch 21/100\n",
      "0s - loss: 4.2450e-04\n",
      "Epoch 22/100\n",
      "0s - loss: 4.0403e-04\n",
      "Epoch 23/100\n",
      "0s - loss: 4.2018e-04\n",
      "Epoch 24/100\n",
      "0s - loss: 3.9703e-04\n",
      "Epoch 25/100\n",
      "0s - loss: 4.2274e-04\n",
      "Epoch 26/100\n",
      "0s - loss: 4.0755e-04\n",
      "Epoch 27/100\n",
      "0s - loss: 4.2230e-04\n",
      "Epoch 28/100\n",
      "0s - loss: 4.1631e-04\n",
      "Epoch 29/100\n",
      "0s - loss: 4.2689e-04\n",
      "Epoch 30/100\n",
      "0s - loss: 4.2030e-04\n",
      "Epoch 31/100\n",
      "0s - loss: 4.0420e-04\n",
      "Epoch 32/100\n",
      "0s - loss: 4.2012e-04\n",
      "Epoch 33/100\n",
      "0s - loss: 4.1403e-04\n",
      "Epoch 34/100\n",
      "0s - loss: 4.2346e-04\n",
      "Epoch 35/100\n",
      "0s - loss: 3.9870e-04\n",
      "Epoch 36/100\n",
      "0s - loss: 4.2596e-04\n",
      "Epoch 37/100\n",
      "0s - loss: 4.0540e-04\n",
      "Epoch 38/100\n",
      "0s - loss: 4.0884e-04\n",
      "Epoch 39/100\n",
      "0s - loss: 4.1036e-04\n",
      "Epoch 40/100\n",
      "0s - loss: 4.1303e-04\n",
      "Epoch 41/100\n",
      "0s - loss: 4.0467e-04\n",
      "Epoch 42/100\n",
      "0s - loss: 4.1584e-04\n",
      "Epoch 43/100\n",
      "0s - loss: 4.0719e-04\n",
      "Epoch 44/100\n",
      "0s - loss: 4.1423e-04\n",
      "Epoch 45/100\n",
      "0s - loss: 4.0320e-04\n",
      "Epoch 46/100\n",
      "0s - loss: 4.0228e-04\n",
      "Epoch 47/100\n",
      "0s - loss: 4.1339e-04\n",
      "Epoch 48/100\n",
      "0s - loss: 4.0596e-04\n",
      "Epoch 49/100\n",
      "0s - loss: 4.1617e-04\n",
      "Epoch 50/100\n",
      "0s - loss: 4.1489e-04\n",
      "Epoch 51/100\n",
      "0s - loss: 4.1549e-04\n",
      "Epoch 52/100\n",
      "0s - loss: 4.1580e-04\n",
      "Epoch 53/100\n",
      "0s - loss: 4.0003e-04\n",
      "Epoch 54/100\n",
      "0s - loss: 4.1657e-04\n",
      "Epoch 55/100\n",
      "0s - loss: 4.0594e-04\n",
      "Epoch 56/100\n",
      "0s - loss: 4.0208e-04\n",
      "Epoch 57/100\n",
      "0s - loss: 4.3239e-04\n",
      "Epoch 58/100\n",
      "0s - loss: 4.1965e-04\n",
      "Epoch 59/100\n",
      "0s - loss: 4.1538e-04\n",
      "Epoch 60/100\n",
      "0s - loss: 4.1250e-04\n",
      "Epoch 61/100\n",
      "0s - loss: 4.0577e-04\n",
      "Epoch 62/100\n",
      "0s - loss: 4.0942e-04\n",
      "Epoch 63/100\n",
      "0s - loss: 3.9526e-04\n",
      "Epoch 64/100\n",
      "0s - loss: 4.1408e-04\n",
      "Epoch 65/100\n",
      "0s - loss: 4.1660e-04\n",
      "Epoch 66/100\n",
      "0s - loss: 4.0385e-04\n",
      "Epoch 67/100\n",
      "0s - loss: 4.1523e-04\n",
      "Epoch 68/100\n",
      "0s - loss: 4.0233e-04\n",
      "Epoch 69/100\n",
      "0s - loss: 4.1300e-04\n",
      "Epoch 70/100\n",
      "0s - loss: 4.1764e-04\n",
      "Epoch 71/100\n",
      "0s - loss: 4.2048e-04\n",
      "Epoch 72/100\n",
      "0s - loss: 4.1049e-04\n",
      "Epoch 73/100\n",
      "0s - loss: 4.1879e-04\n",
      "Epoch 74/100\n",
      "0s - loss: 4.1988e-04\n",
      "Epoch 75/100\n",
      "0s - loss: 4.1673e-04\n",
      "Epoch 76/100\n",
      "0s - loss: 4.0114e-04\n",
      "Epoch 77/100\n",
      "0s - loss: 4.0261e-04\n",
      "Epoch 78/100\n",
      "0s - loss: 4.2471e-04\n",
      "Epoch 79/100\n",
      "0s - loss: 4.0677e-04\n",
      "Epoch 80/100\n",
      "0s - loss: 4.0872e-04\n",
      "Epoch 81/100\n",
      "0s - loss: 4.1469e-04\n",
      "Epoch 82/100\n",
      "0s - loss: 4.0982e-04\n",
      "Epoch 83/100\n",
      "0s - loss: 4.1916e-04\n",
      "Epoch 84/100\n",
      "0s - loss: 4.0769e-04\n",
      "Epoch 85/100\n",
      "0s - loss: 4.2456e-04\n",
      "Epoch 86/100\n",
      "0s - loss: 4.0507e-04\n",
      "Epoch 87/100\n",
      "0s - loss: 4.0393e-04\n",
      "Epoch 88/100\n",
      "0s - loss: 4.0866e-04\n",
      "Epoch 89/100\n",
      "0s - loss: 4.0819e-04\n",
      "Epoch 90/100\n",
      "0s - loss: 4.0990e-04\n",
      "Epoch 91/100\n",
      "0s - loss: 4.1235e-04\n",
      "Epoch 92/100\n",
      "0s - loss: 4.1114e-04\n",
      "Epoch 93/100\n",
      "0s - loss: 4.1904e-04\n",
      "Epoch 94/100\n",
      "0s - loss: 4.1229e-04\n",
      "Epoch 95/100\n",
      "0s - loss: 3.9943e-04\n",
      "Epoch 96/100\n",
      "0s - loss: 4.1645e-04\n",
      "Epoch 97/100\n",
      "0s - loss: 4.0895e-04\n",
      "Epoch 98/100\n",
      "0s - loss: 4.0933e-04\n",
      "Epoch 99/100\n",
      "0s - loss: 4.2618e-04\n",
      "Epoch 100/100\n",
      "0s - loss: 4.0644e-04\n"
     ]
    },
    {
     "data": {
      "text/plain": [
       "<keras.callbacks.History at 0x16d6f069048>"
      ]
     },
     "execution_count": 42,
     "metadata": {},
     "output_type": "execute_result"
    }
   ],
   "source": [
    "model = Sequential()\n",
    "model.add(LSTM(4, input_shape=(1, look_back)))\n",
    "model.add(Dense(1))\n",
    "model.compile(loss='mean_squared_error', optimizer='adam')\n",
    "model.fit(trainX,trainY, epochs=100, batch_size=1, verbose =2)"
   ]
  },
  {
   "cell_type": "code",
   "execution_count": 80,
   "metadata": {},
   "outputs": [
    {
     "ename": "ValueError",
     "evalue": "Input 0 is incompatible with layer lstm_10: expected ndim=3, found ndim=4",
     "output_type": "error",
     "traceback": [
      "\u001b[1;31m---------------------------------------------------------------------------\u001b[0m",
      "\u001b[1;31mValueError\u001b[0m                                Traceback (most recent call last)",
      "\u001b[1;32m<ipython-input-80-d1ee0e790e8c>\u001b[0m in \u001b[0;36m<module>\u001b[1;34m()\u001b[0m\n\u001b[0;32m      2\u001b[0m model.add(LSTM(50,\n\u001b[0;32m      3\u001b[0m     \u001b[0minput_shape\u001b[0m\u001b[1;33m=\u001b[0m\u001b[0mtrainX\u001b[0m\u001b[1;33m.\u001b[0m\u001b[0mshape\u001b[0m\u001b[1;33m,\u001b[0m\u001b[1;33m\u001b[0m\u001b[0m\n\u001b[1;32m----> 4\u001b[1;33m     return_sequences=True))\n\u001b[0m\u001b[0;32m      5\u001b[0m \u001b[0mmodel\u001b[0m\u001b[1;33m.\u001b[0m\u001b[0madd\u001b[0m\u001b[1;33m(\u001b[0m\u001b[0mDropout\u001b[0m\u001b[1;33m(\u001b[0m\u001b[1;36m0.2\u001b[0m\u001b[1;33m)\u001b[0m\u001b[1;33m)\u001b[0m\u001b[1;33m\u001b[0m\u001b[0m\n\u001b[0;32m      6\u001b[0m \u001b[1;33m\u001b[0m\u001b[0m\n",
      "\u001b[1;32m~\\Anaconda2\\envs\\neural_net\\lib\\site-packages\\keras\\models.py\u001b[0m in \u001b[0;36madd\u001b[1;34m(self, layer)\u001b[0m\n\u001b[0;32m    434\u001b[0m                 \u001b[1;31m# and create the node connecting the current layer\u001b[0m\u001b[1;33m\u001b[0m\u001b[1;33m\u001b[0m\u001b[0m\n\u001b[0;32m    435\u001b[0m                 \u001b[1;31m# to the input layer we just created.\u001b[0m\u001b[1;33m\u001b[0m\u001b[1;33m\u001b[0m\u001b[0m\n\u001b[1;32m--> 436\u001b[1;33m                 \u001b[0mlayer\u001b[0m\u001b[1;33m(\u001b[0m\u001b[0mx\u001b[0m\u001b[1;33m)\u001b[0m\u001b[1;33m\u001b[0m\u001b[0m\n\u001b[0m\u001b[0;32m    437\u001b[0m \u001b[1;33m\u001b[0m\u001b[0m\n\u001b[0;32m    438\u001b[0m             \u001b[1;32mif\u001b[0m \u001b[0mlen\u001b[0m\u001b[1;33m(\u001b[0m\u001b[0mlayer\u001b[0m\u001b[1;33m.\u001b[0m\u001b[0minbound_nodes\u001b[0m\u001b[1;33m)\u001b[0m \u001b[1;33m!=\u001b[0m \u001b[1;36m1\u001b[0m\u001b[1;33m:\u001b[0m\u001b[1;33m\u001b[0m\u001b[0m\n",
      "\u001b[1;32m~\\Anaconda2\\envs\\neural_net\\lib\\site-packages\\keras\\layers\\recurrent.py\u001b[0m in \u001b[0;36m__call__\u001b[1;34m(self, inputs, initial_state, **kwargs)\u001b[0m\n\u001b[0;32m    260\u001b[0m         \u001b[1;31m# modify the input spec to include the state.\u001b[0m\u001b[1;33m\u001b[0m\u001b[1;33m\u001b[0m\u001b[0m\n\u001b[0;32m    261\u001b[0m         \u001b[1;32mif\u001b[0m \u001b[0minitial_state\u001b[0m \u001b[1;32mis\u001b[0m \u001b[1;32mNone\u001b[0m\u001b[1;33m:\u001b[0m\u001b[1;33m\u001b[0m\u001b[0m\n\u001b[1;32m--> 262\u001b[1;33m             \u001b[1;32mreturn\u001b[0m \u001b[0msuper\u001b[0m\u001b[1;33m(\u001b[0m\u001b[0mRecurrent\u001b[0m\u001b[1;33m,\u001b[0m \u001b[0mself\u001b[0m\u001b[1;33m)\u001b[0m\u001b[1;33m.\u001b[0m\u001b[0m__call__\u001b[0m\u001b[1;33m(\u001b[0m\u001b[0minputs\u001b[0m\u001b[1;33m,\u001b[0m \u001b[1;33m**\u001b[0m\u001b[0mkwargs\u001b[0m\u001b[1;33m)\u001b[0m\u001b[1;33m\u001b[0m\u001b[0m\n\u001b[0m\u001b[0;32m    263\u001b[0m \u001b[1;33m\u001b[0m\u001b[0m\n\u001b[0;32m    264\u001b[0m         \u001b[1;32mif\u001b[0m \u001b[1;32mnot\u001b[0m \u001b[0misinstance\u001b[0m\u001b[1;33m(\u001b[0m\u001b[0minitial_state\u001b[0m\u001b[1;33m,\u001b[0m \u001b[1;33m(\u001b[0m\u001b[0mlist\u001b[0m\u001b[1;33m,\u001b[0m \u001b[0mtuple\u001b[0m\u001b[1;33m)\u001b[0m\u001b[1;33m)\u001b[0m\u001b[1;33m:\u001b[0m\u001b[1;33m\u001b[0m\u001b[0m\n",
      "\u001b[1;32m~\\Anaconda2\\envs\\neural_net\\lib\\site-packages\\keras\\engine\\topology.py\u001b[0m in \u001b[0;36m__call__\u001b[1;34m(self, inputs, **kwargs)\u001b[0m\n\u001b[0;32m    550\u001b[0m                 \u001b[1;31m# Raise exceptions in case the input is not compatible\u001b[0m\u001b[1;33m\u001b[0m\u001b[1;33m\u001b[0m\u001b[0m\n\u001b[0;32m    551\u001b[0m                 \u001b[1;31m# with the input_spec specified in the layer constructor.\u001b[0m\u001b[1;33m\u001b[0m\u001b[1;33m\u001b[0m\u001b[0m\n\u001b[1;32m--> 552\u001b[1;33m                 \u001b[0mself\u001b[0m\u001b[1;33m.\u001b[0m\u001b[0massert_input_compatibility\u001b[0m\u001b[1;33m(\u001b[0m\u001b[0minputs\u001b[0m\u001b[1;33m)\u001b[0m\u001b[1;33m\u001b[0m\u001b[0m\n\u001b[0m\u001b[0;32m    553\u001b[0m \u001b[1;33m\u001b[0m\u001b[0m\n\u001b[0;32m    554\u001b[0m                 \u001b[1;31m# Collect input shapes to build layer.\u001b[0m\u001b[1;33m\u001b[0m\u001b[1;33m\u001b[0m\u001b[0m\n",
      "\u001b[1;32m~\\Anaconda2\\envs\\neural_net\\lib\\site-packages\\keras\\engine\\topology.py\u001b[0m in \u001b[0;36massert_input_compatibility\u001b[1;34m(self, inputs)\u001b[0m\n\u001b[0;32m    449\u001b[0m                                      \u001b[0mself\u001b[0m\u001b[1;33m.\u001b[0m\u001b[0mname\u001b[0m \u001b[1;33m+\u001b[0m \u001b[1;34m': expected ndim='\u001b[0m \u001b[1;33m+\u001b[0m\u001b[1;33m\u001b[0m\u001b[0m\n\u001b[0;32m    450\u001b[0m                                      \u001b[0mstr\u001b[0m\u001b[1;33m(\u001b[0m\u001b[0mspec\u001b[0m\u001b[1;33m.\u001b[0m\u001b[0mndim\u001b[0m\u001b[1;33m)\u001b[0m \u001b[1;33m+\u001b[0m \u001b[1;34m', found ndim='\u001b[0m \u001b[1;33m+\u001b[0m\u001b[1;33m\u001b[0m\u001b[0m\n\u001b[1;32m--> 451\u001b[1;33m                                      str(K.ndim(x)))\n\u001b[0m\u001b[0;32m    452\u001b[0m             \u001b[1;32mif\u001b[0m \u001b[0mspec\u001b[0m\u001b[1;33m.\u001b[0m\u001b[0mmax_ndim\u001b[0m \u001b[1;32mis\u001b[0m \u001b[1;32mnot\u001b[0m \u001b[1;32mNone\u001b[0m\u001b[1;33m:\u001b[0m\u001b[1;33m\u001b[0m\u001b[0m\n\u001b[0;32m    453\u001b[0m                 \u001b[0mndim\u001b[0m \u001b[1;33m=\u001b[0m \u001b[0mK\u001b[0m\u001b[1;33m.\u001b[0m\u001b[0mndim\u001b[0m\u001b[1;33m(\u001b[0m\u001b[0mx\u001b[0m\u001b[1;33m)\u001b[0m\u001b[1;33m\u001b[0m\u001b[0m\n",
      "\u001b[1;31mValueError\u001b[0m: Input 0 is incompatible with layer lstm_10: expected ndim=3, found ndim=4"
     ]
    }
   ],
   "source": [
    "model = Sequential()\n",
    "model.add(LSTM(50,\n",
    "    input_shape=trainX.shape,\n",
    "    return_sequences=True))\n",
    "model.add(Dropout(0.2))\n",
    "          \n",
    "model.add(LSTM(\n",
    "100,\n",
    "return_sequence=False))\n",
    "model.add(Dropout(0.2))\n",
    "\n",
    "model.add(Dense(\n",
    "    output_dim=1))\n",
    "model.add(Activation('linear'))\n",
    "\n",
    "start = time.time()\n",
    "model.compile(loss='mse', optimizer='rmsprop')\n",
    "print('compilation time: ', time.time() - start)"
   ]
  },
  {
   "cell_type": "code",
   "execution_count": 43,
   "metadata": {},
   "outputs": [
    {
     "name": "stdout",
     "output_type": "stream",
     "text": [
      "Train Score: 12.86 RMSE\n",
      "Test Score: 11.61 RMSE\n"
     ]
    }
   ],
   "source": [
    "# make predictions\n",
    "trainPredict = model.predict(trainX)\n",
    "testPredict = model.predict(testX)\n",
    "# invert predictions\n",
    "trainPredict = scaler.inverse_transform(trainPredict)\n",
    "trainY = scaler.inverse_transform([trainY])\n",
    "testPredict = scaler.inverse_transform(testPredict)\n",
    "testY = scaler.inverse_transform([testY])\n",
    "# calculate root mean squared error\n",
    "trainScore = math.sqrt(mean_squared_error(trainY[0], trainPredict[:,0]))\n",
    "print('Train Score: %.2f RMSE' % (trainScore))\n",
    "testScore = math.sqrt(mean_squared_error(testY[0], testPredict[:,0]))\n",
    "print('Test Score: %.2f RMSE' % (testScore))"
   ]
  },
  {
   "cell_type": "raw",
   "metadata": {},
   "source": [
    "train_predict = scaler.inverse_transform(train_predict)\n",
    "trainY = scaler.inverse_transform([trainY])\n",
    "test_predict = scaler.inverse_transform(test_predict)\n",
    "testY = scaler.inverse_transform([testY])"
   ]
  },
  {
   "cell_type": "code",
   "execution_count": 195,
   "metadata": {},
   "outputs": [
    {
     "data": {
      "text/plain": [
       "(1, 297)"
      ]
     },
     "execution_count": 195,
     "metadata": {},
     "output_type": "execute_result"
    }
   ],
   "source": [
    "trainY.shape"
   ]
  },
  {
   "cell_type": "code",
   "execution_count": 45,
   "metadata": {},
   "outputs": [
    {
     "data": {
      "image/png": "[encoded data removed]",
      "text/plain": [
       "<matplotlib.figure.Figure at 0x16d6f2204e0>"
      ]
     },
     "metadata": {},
     "output_type": "display_data"
    }
   ],
   "source": [
    "# shift train predictions for plotting\n",
    "trainPredictPlot = np.empty_like(nyse)\n",
    "trainPredictPlot[:, :] = np.nan\n",
    "trainPredictPlot[look_back:len(trainPredict)+look_back, :] = trainPredict\n",
    "# shift test predictions for plotting\n",
    "testPredictPlot = np.empty_like(nyse)\n",
    "testPredictPlot[:, :] = np.nan\n",
    "testPredictPlot[len(trainPredict)+(look_back*2)+1:len(nyse)-1, :] = testPredict\n",
    "# plot baseline and predictions\n",
    "plt.plot(scaler.inverse_transform(nyse))\n",
    "plt.plot(trainPredictPlot)\n",
    "plt.plot(testPredictPlot)\n",
    "plt.show()"
   ]
  },
  {
   "cell_type": "code",
   "execution_count": null,
   "metadata": {
    "collapsed": true
   },
   "outputs": [],
   "source": []
  }
 ],
 "metadata": {
  "kernelspec": {
   "display_name": "Python 3",
   "language": "python",
   "name": "python3"
  },
  "language_info": {
   "codemirror_mode": {
    "name": "ipython",
    "version": 3
   },
   "file_extension": ".py",
   "mimetype": "text/x-python",
   "name": "python",
   "nbconvert_exporter": "python",
   "pygments_lexer": "ipython3",
   "version": "3.6.2"
  }
 },
 "nbformat": 4,
 "nbformat_minor": 2
}
