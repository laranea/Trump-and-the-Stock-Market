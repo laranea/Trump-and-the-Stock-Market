{
 "cells": [
  {
   "cell_type": "code",
   "execution_count": 1,
   "metadata": {},
   "outputs": [
    {
     "name": "stderr",
     "output_type": "stream",
     "text": [
      "Using TensorFlow backend.\n",
      "C:\\Users\\bobbyd\\Anaconda2\\envs\\neural_net\\lib\\site-packages\\sklearn\\cross_validation.py:41: DeprecationWarning: This module was deprecated in version 0.18 in favor of the model_selection module into which all the refactored classes and functions are moved. Also note that the interface of the new CV iterators are different from that of this module. This module will be removed in 0.20.\n",
      "  \"This module will be removed in 0.20.\", DeprecationWarning)\n"
     ]
    }
   ],
   "source": [
    "import pandas as pd\n",
    "import numpy as np\n",
    "import math\n",
    "from keras.models import Sequential\n",
    "from keras.layers import Dense\n",
    "from keras.layers import LSTM\n",
    "from sklearn.model_selection import TimeSeriesSplit\n",
    "from sklearn.preprocessing import MinMaxScaler\n",
    "from sklearn.metrics import mean_squared_error\n",
    "from subprocess import check_output\n",
    "from numpy import newaxis\n",
    "from sklearn.cross_validation import train_test_split\n",
    "import matplotlib.pyplot as plt\n",
    "\n",
    "%matplotlib inline"
   ]
  },
  {
   "cell_type": "code",
   "execution_count": 2,
   "metadata": {
    "collapsed": true
   },
   "outputs": [],
   "source": [
    "import time"
   ]
  },
  {
   "cell_type": "code",
   "execution_count": 16,
   "metadata": {},
   "outputs": [],
   "source": [
    "nyse = pd.read_csv('nyse1.csv', skipfooter=2, engine = 'python')"
   ]
  },
  {
   "cell_type": "code",
   "execution_count": 17,
   "metadata": {},
   "outputs": [
    {
     "data": {
      "text/plain": [
       "Date\n",
       "2015-12-29    2078.36\n",
       "2015-12-30    2063.36\n",
       "2015-12-31    2043.94\n",
       "2016-01-01    2043.94\n",
       "2016-01-02    2043.94\n",
       "2016-01-03    2043.94\n",
       "2016-01-04    2012.66\n",
       "2016-01-05    2012.66\n",
       "2016-01-06    1990.26\n",
       "2016-01-07    1943.09\n",
       "Freq: D, Name: Close, dtype: float64"
      ]
     },
     "execution_count": 17,
     "metadata": {},
     "output_type": "execute_result"
    }
   ],
   "source": [
    "#preprocess Stock data\n",
    "nyse.index = pd.DatetimeIndex(nyse['Date'])\n",
    "nyse.sort_index(ascending=True, inplace=True)\n",
    "nyse.drop('Date', axis=1, inplace=True)\n",
    "nyse = nyse.loc['2015-12-29':, :]\n",
    "nyse = nyse['Close']\n",
    "nyse = nyse.resample('D').fillna('ffill')\n",
    "nyse[0:10]\n"
   ]
  },
  {
   "cell_type": "code",
   "execution_count": 33,
   "metadata": {
    "collapsed": true
   },
   "outputs": [],
   "source": [
    "nyse.reset_index(drop=True, inplace=True)"
   ]
  },
  {
   "cell_type": "code",
   "execution_count": 6,
   "metadata": {},
   "outputs": [
    {
     "name": "stderr",
     "output_type": "stream",
     "text": [
      "C:\\Users\\bobbyd\\Anaconda2\\envs\\neural_net\\lib\\site-packages\\ipykernel_launcher.py:2: FutureWarning: reshape is deprecated and will raise in a subsequent release. Please use .values.reshape(...) instead\n",
      "  \n"
     ]
    }
   ],
   "source": [
    "# scale data for sigmoid and tanh\n",
    "nyse= nyse.reshape(-1,1)\n",
    "scaler = MinMaxScaler(feature_range=(0,1))\n",
    "nyse  = scaler.fit_transform(nyse)"
   ]
  },
  {
   "cell_type": "code",
   "execution_count": 7,
   "metadata": {},
   "outputs": [
    {
     "name": "stdout",
     "output_type": "stream",
     "text": [
      "404 199\n"
     ]
    }
   ],
   "source": [
    "#train test split\n",
    "train_size = int(len(nyse) * .67)\n",
    "test_size = len(nyse) - train_size\n",
    "train, test = nyse[0:train_size,:], nyse[train_size:len(nyse),:]\n",
    "print(len(train),len(test))"
   ]
  },
  {
   "cell_type": "code",
   "execution_count": 8,
   "metadata": {
    "collapsed": true
   },
   "outputs": [],
   "source": [
    "# convert an array of values into a dataset matrix\n",
    "def create_dataset(dataset, look_back=1):\n",
    "    dataX, dataY = [], []\n",
    "    for i in range(len(dataset)-look_back-1):\n",
    "        a = dataset[i:(i+look_back), 0]\n",
    "        dataX.append(a)\n",
    "        dataY.append(dataset[i + look_back, 0])\n",
    "    return np.array(dataX), np.array(dataY)"
   ]
  },
  {
   "cell_type": "code",
   "execution_count": 9,
   "metadata": {
    "collapsed": true
   },
   "outputs": [],
   "source": [
    "look_back =1\n",
    "trainX, trainY = create_dataset(train, look_back)\n",
    "testX, testY = create_dataset(test, look_back)"
   ]
  },
  {
   "cell_type": "code",
   "execution_count": 10,
   "metadata": {
    "collapsed": true
   },
   "outputs": [],
   "source": [
    "trainX = np.reshape(trainX, (trainX.shape[0], 1,trainX.shape[1]))\n",
    "testX = np.reshape(testX,(testX.shape[0], 1, testX.shape[1]))"
   ]
  },
  {
   "cell_type": "code",
   "execution_count": 11,
   "metadata": {},
   "outputs": [
    {
     "data": {
      "text/plain": [
       "(402, 1, 1)"
      ]
     },
     "execution_count": 11,
     "metadata": {},
     "output_type": "execute_result"
    }
   ],
   "source": [
    "trainX.shape"
   ]
  },
  {
   "cell_type": "code",
   "execution_count": 12,
   "metadata": {},
   "outputs": [
    {
     "name": "stdout",
     "output_type": "stream",
     "text": [
      "Epoch 1/100\n",
      "1s - loss: 0.0587\n",
      "Epoch 2/100\n",
      "0s - loss: 0.0143\n",
      "Epoch 3/100\n",
      "0s - loss: 0.0094\n",
      "Epoch 4/100\n",
      "0s - loss: 0.0051\n",
      "Epoch 5/100\n",
      "0s - loss: 0.0022\n",
      "Epoch 6/100\n",
      "0s - loss: 8.5018e-04\n",
      "Epoch 7/100\n",
      "0s - loss: 4.8110e-04\n",
      "Epoch 8/100\n",
      "0s - loss: 4.4710e-04\n",
      "Epoch 9/100\n",
      "0s - loss: 4.4500e-04\n",
      "Epoch 10/100\n",
      "0s - loss: 4.4527e-04\n",
      "Epoch 11/100\n",
      "0s - loss: 4.3636e-04\n",
      "Epoch 12/100\n",
      "0s - loss: 4.3663e-04\n",
      "Epoch 13/100\n",
      "0s - loss: 4.3143e-04\n",
      "Epoch 14/100\n",
      "0s - loss: 4.3417e-04\n",
      "Epoch 15/100\n",
      "0s - loss: 4.4644e-04\n",
      "Epoch 16/100\n",
      "0s - loss: 4.3066e-04\n",
      "Epoch 17/100\n",
      "0s - loss: 4.3358e-04\n",
      "Epoch 18/100\n",
      "0s - loss: 4.3315e-04\n",
      "Epoch 19/100\n",
      "0s - loss: 4.2871e-04\n",
      "Epoch 20/100\n",
      "0s - loss: 4.2986e-04\n",
      "Epoch 21/100\n",
      "0s - loss: 4.3052e-04\n",
      "Epoch 22/100\n",
      "0s - loss: 4.2476e-04\n",
      "Epoch 23/100\n",
      "0s - loss: 4.2657e-04\n",
      "Epoch 24/100\n",
      "0s - loss: 4.1947e-04\n",
      "Epoch 25/100\n",
      "0s - loss: 4.1292e-04\n",
      "Epoch 26/100\n",
      "0s - loss: 4.1657e-04\n",
      "Epoch 27/100\n",
      "0s - loss: 4.2454e-04\n",
      "Epoch 28/100\n",
      "0s - loss: 4.2869e-04\n",
      "Epoch 29/100\n",
      "0s - loss: 4.0630e-04\n",
      "Epoch 30/100\n",
      "0s - loss: 4.1432e-04\n",
      "Epoch 31/100\n",
      "0s - loss: 4.1975e-04\n",
      "Epoch 32/100\n",
      "0s - loss: 4.1665e-04\n",
      "Epoch 33/100\n",
      "0s - loss: 4.1698e-04\n",
      "Epoch 34/100\n",
      "0s - loss: 4.1442e-04\n",
      "Epoch 35/100\n",
      "0s - loss: 4.0156e-04\n",
      "Epoch 36/100\n",
      "0s - loss: 4.1315e-04\n",
      "Epoch 37/100\n",
      "0s - loss: 4.1215e-04\n",
      "Epoch 38/100\n",
      "0s - loss: 4.1884e-04\n",
      "Epoch 39/100\n",
      "0s - loss: 3.9884e-04\n",
      "Epoch 40/100\n",
      "0s - loss: 4.0397e-04\n",
      "Epoch 41/100\n",
      "0s - loss: 4.1170e-04\n",
      "Epoch 42/100\n",
      "0s - loss: 4.0780e-04\n",
      "Epoch 43/100\n",
      "0s - loss: 3.9754e-04\n",
      "Epoch 44/100\n",
      "0s - loss: 4.2039e-04\n",
      "Epoch 45/100\n",
      "0s - loss: 4.0207e-04\n",
      "Epoch 46/100\n",
      "0s - loss: 4.0821e-04\n",
      "Epoch 47/100\n",
      "0s - loss: 4.0283e-04\n",
      "Epoch 48/100\n",
      "0s - loss: 4.0941e-04\n",
      "Epoch 49/100\n",
      "0s - loss: 4.1365e-04\n",
      "Epoch 50/100\n",
      "0s - loss: 4.1988e-04\n",
      "Epoch 51/100\n",
      "0s - loss: 4.2479e-04\n",
      "Epoch 52/100\n",
      "0s - loss: 4.1796e-04\n",
      "Epoch 53/100\n",
      "0s - loss: 4.2463e-04\n",
      "Epoch 54/100\n",
      "0s - loss: 4.3120e-04\n",
      "Epoch 55/100\n",
      "0s - loss: 4.2724e-04\n",
      "Epoch 56/100\n",
      "0s - loss: 4.1867e-04\n",
      "Epoch 57/100\n",
      "0s - loss: 4.2985e-04\n",
      "Epoch 58/100\n",
      "0s - loss: 4.1456e-04\n",
      "Epoch 59/100\n",
      "0s - loss: 4.2393e-04\n",
      "Epoch 60/100\n",
      "0s - loss: 4.0923e-04\n",
      "Epoch 61/100\n",
      "0s - loss: 4.1718e-04\n",
      "Epoch 62/100\n",
      "0s - loss: 4.2104e-04\n",
      "Epoch 63/100\n",
      "0s - loss: 4.2030e-04\n",
      "Epoch 64/100\n",
      "0s - loss: 4.1555e-04\n",
      "Epoch 65/100\n",
      "0s - loss: 4.2441e-04\n",
      "Epoch 66/100\n",
      "0s - loss: 3.9931e-04\n",
      "Epoch 67/100\n",
      "0s - loss: 4.0793e-04\n",
      "Epoch 68/100\n",
      "0s - loss: 4.0631e-04\n",
      "Epoch 69/100\n",
      "0s - loss: 4.1531e-04\n",
      "Epoch 70/100\n",
      "0s - loss: 3.9807e-04\n",
      "Epoch 71/100\n",
      "0s - loss: 4.0839e-04\n",
      "Epoch 72/100\n",
      "0s - loss: 4.1328e-04\n",
      "Epoch 73/100\n",
      "0s - loss: 4.0764e-04\n",
      "Epoch 74/100\n",
      "0s - loss: 4.3280e-04\n",
      "Epoch 75/100\n",
      "0s - loss: 4.0592e-04\n",
      "Epoch 76/100\n",
      "0s - loss: 4.0915e-04\n",
      "Epoch 77/100\n",
      "0s - loss: 4.1818e-04\n",
      "Epoch 78/100\n",
      "0s - loss: 4.0697e-04\n",
      "Epoch 79/100\n",
      "0s - loss: 4.1203e-04\n",
      "Epoch 80/100\n",
      "0s - loss: 4.2398e-04\n",
      "Epoch 81/100\n",
      "0s - loss: 4.1328e-04\n",
      "Epoch 82/100\n",
      "0s - loss: 4.0916e-04\n",
      "Epoch 83/100\n",
      "0s - loss: 4.1327e-04\n",
      "Epoch 84/100\n",
      "0s - loss: 3.9795e-04\n",
      "Epoch 85/100\n",
      "0s - loss: 4.1926e-04\n",
      "Epoch 86/100\n",
      "0s - loss: 4.1814e-04\n",
      "Epoch 87/100\n",
      "0s - loss: 3.9826e-04\n",
      "Epoch 88/100\n",
      "0s - loss: 4.2866e-04\n",
      "Epoch 89/100\n",
      "0s - loss: 4.1753e-04\n",
      "Epoch 90/100\n",
      "0s - loss: 4.1485e-04\n",
      "Epoch 91/100\n",
      "0s - loss: 4.2197e-04\n",
      "Epoch 92/100\n",
      "0s - loss: 4.2170e-04\n",
      "Epoch 93/100\n",
      "0s - loss: 4.1705e-04\n",
      "Epoch 94/100\n",
      "0s - loss: 4.0143e-04\n",
      "Epoch 95/100\n",
      "0s - loss: 4.1031e-04\n",
      "Epoch 96/100\n",
      "0s - loss: 4.3376e-04\n",
      "Epoch 97/100\n",
      "0s - loss: 4.1540e-04\n",
      "Epoch 98/100\n",
      "0s - loss: 4.0448e-04\n",
      "Epoch 99/100\n",
      "0s - loss: 4.0856e-04\n",
      "Epoch 100/100\n",
      "0s - loss: 4.1234e-04\n"
     ]
    },
    {
     "data": {
      "text/plain": [
       "<keras.callbacks.History at 0x2b20082dc88>"
      ]
     },
     "execution_count": 12,
     "metadata": {},
     "output_type": "execute_result"
    }
   ],
   "source": [
    "model = Sequential()\n",
    "model.add(LSTM(4, input_shape=(1, look_back)))\n",
    "model.add(Dense(1))\n",
    "model.compile(loss='mean_squared_error', optimizer='adam')\n",
    "model.fit(trainX,trainY, epochs=100, batch_size=1, verbose =2)"
   ]
  },
  {
   "cell_type": "code",
   "execution_count": 13,
   "metadata": {},
   "outputs": [
    {
     "name": "stdout",
     "output_type": "stream",
     "text": [
      "Train Score: 13.42 RMSE\n",
      "Test Score: 17.87 RMSE\n"
     ]
    }
   ],
   "source": [
    "# make predictions\n",
    "trainPredict = model.predict(trainX)\n",
    "testPredict = model.predict(testX)\n",
    "# invert predictions\n",
    "trainPredict = scaler.inverse_transform(trainPredict)\n",
    "trainY = scaler.inverse_transform([trainY])\n",
    "testPredict = scaler.inverse_transform(testPredict)\n",
    "testY = scaler.inverse_transform([testY])\n",
    "# calculate root mean squared error\n",
    "trainScore = math.sqrt(mean_squared_error(trainY[0], trainPredict[:,0]))\n",
    "print('Train Score: %.2f RMSE' % (trainScore))\n",
    "testScore = math.sqrt(mean_squared_error(testY[0], testPredict[:,0]))\n",
    "print('Test Score: %.2f RMSE' % (testScore))"
   ]
  },
  {
   "cell_type": "code",
   "execution_count": 195,
   "metadata": {},
   "outputs": [
    {
     "data": {
      "text/plain": [
       "(1, 297)"
      ]
     },
     "execution_count": 195,
     "metadata": {},
     "output_type": "execute_result"
    }
   ],
   "source": [
    "trainY.shape"
   ]
  },
  {
   "cell_type": "code",
   "execution_count": 14,
   "metadata": {},
   "outputs": [
    {
     "data": {
      "image/png": "[encoded data removed]",
      "text/plain": [
       "<matplotlib.figure.Figure at 0x2b27f2ceda0>"
      ]
     },
     "metadata": {},
     "output_type": "display_data"
    }
   ],
   "source": [
    "# shift train predictions for plotting\n",
    "trainPredictPlot = np.empty_like(nyse)\n",
    "trainPredictPlot[:, :] = np.nan\n",
    "trainPredictPlot[look_back:len(trainPredict)+look_back, :] = trainPredict\n",
    "# shift test predictions for plotting\n",
    "testPredictPlot = np.empty_like(nyse)\n",
    "testPredictPlot[:, :] = np.nan\n",
    "testPredictPlot[len(trainPredict)+(look_back*2)+1:len(nyse)-1, :] = testPredict\n",
    "# plot baseline and predictions\n",
    "plt.plot(scaler.inverse_transform(nyse))\n",
    "plt.plot(trainPredictPlot)\n",
    "plt.plot(testPredictPlot)\n",
    "plt.show()"
   ]
  },
  {
   "cell_type": "code",
   "execution_count": null,
   "metadata": {
    "collapsed": true
   },
   "outputs": [],
   "source": []
  }
 ],
 "metadata": {
  "kernelspec": {
   "display_name": "Python 3",
   "language": "python",
   "name": "python3"
  },
  "language_info": {
   "codemirror_mode": {
    "name": "ipython",
    "version": 3
   },
   "file_extension": ".py",
   "mimetype": "text/x-python",
   "name": "python",
   "nbconvert_exporter": "python",
   "pygments_lexer": "ipython3",
   "version": "3.6.2"
  }
 },
 "nbformat": 4,
 "nbformat_minor": 2
}
